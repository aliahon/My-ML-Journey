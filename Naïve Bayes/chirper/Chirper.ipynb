{
  "metadata": {
    "kernelspec": {
      "name": "python",
      "display_name": "Python (Pyodide)",
      "language": "python"
    },
    "language_info": {
      "codemirror_mode": {
        "name": "python",
        "version": 3
      },
      "file_extension": ".py",
      "mimetype": "text/x-python",
      "name": "python",
      "nbconvert_exporter": "python",
      "pygments_lexer": "ipython3",
      "version": "3.8"
    }
  },
  "nbformat_minor": 5,
  "nbformat": 4,
  "cells": [
    {
      "id": "4b8ea9de",
      "cell_type": "markdown",
      "source": "# Naïve Bayes Classifier",
      "metadata": {}
    },
    {
      "id": "003f5551",
      "cell_type": "markdown",
      "source": "## Import the necessary libraires",
      "metadata": {}
    },
    {
      "id": "6bc44a2e",
      "cell_type": "code",
      "source": "import pandas as pd\nimport numpy as np\nimport matplotlib.pyplot as plt\n\nfrom sklearn.feature_extraction.text import CountVectorizer\nfrom sklearn.model_selection import train_test_split\nfrom sklearn.naive_bayes import MultinomialNB\nfrom sklearn.metrics import ConfusionMatrixDisplay\nfrom sklearn.metrics import classification_report",
      "metadata": {
        "trusted": true
      },
      "outputs": [],
      "execution_count": null
    },
    {
      "id": "c15f578d",
      "cell_type": "markdown",
      "source": "## Read the data",
      "metadata": {}
    },
    {
      "id": "5521fb77",
      "cell_type": "code",
      "source": "data = pd.read_csv('chirper.csv', encoding = \"ISO-8859-1\")\ndata.head(10)",
      "metadata": {
        "trusted": true
      },
      "outputs": [],
      "execution_count": null
    },
    {
      "id": "1d423d13",
      "cell_type": "code",
      "source": "data['Target'].value_counts()",
      "metadata": {
        "trusted": true
      },
      "outputs": [],
      "execution_count": null
    },
    {
      "id": "4927caea",
      "cell_type": "markdown",
      "source": "## Define the inputs and the target",
      "metadata": {}
    },
    {
      "id": "800dd9ce",
      "cell_type": "markdown",
      "source": "Identify the **relevant** columns and declare the variables below.",
      "metadata": {}
    },
    {
      "id": "e843c8bc",
      "cell_type": "code",
      "source": "inputs = data['Text']\ntarget = data['Target']",
      "metadata": {
        "trusted": true
      },
      "outputs": [],
      "execution_count": null
    },
    {
      "id": "46494be2",
      "cell_type": "markdown",
      "source": "## Split the data into training and tesitng",
      "metadata": {}
    },
    {
      "id": "a4e3400c",
      "cell_type": "markdown",
      "source": "* Perform a 70:30 split - 30% of the data should be dedicated to testing.\n* Set the random state to 365.\n* Make sure that there is a fair distribution of the representatives from each class.",
      "metadata": {}
    },
    {
      "id": "b09d5c83",
      "cell_type": "code",
      "source": "x_train, x_test, y_train, y_test = train_test_split(inputs, target,\n                                                    test_size = 0.3,\n                                                    random_state=365,\n                                                    stratify = True)",
      "metadata": {
        "trusted": true
      },
      "outputs": [],
      "execution_count": null
    },
    {
      "id": "a3643f04",
      "cell_type": "markdown",
      "source": "## Transform the training and testing inputs using CountVectorizer",
      "metadata": {}
    },
    {
      "id": "c88b166b",
      "cell_type": "code",
      "source": "vec = CountVectorizer()\nx_train_transform = vec.fit_transform(x_train)\nx_test_transform = vec.transform(x_test)",
      "metadata": {
        "trusted": true
      },
      "outputs": [],
      "execution_count": null
    },
    {
      "id": "6ae0e60b",
      "cell_type": "markdown",
      "source": "## Create a Naïve Bayes model",
      "metadata": {}
    },
    {
      "id": "fc6e4c6f",
      "cell_type": "markdown",
      "source": "* Create an instance of the Naïve Bayes class.\n* Fit the data to the model.",
      "metadata": {}
    },
    {
      "id": "db208c80",
      "cell_type": "code",
      "source": "nbm=MultinomialNB()\nnbm.fit(x_train_transform, y_train)",
      "metadata": {
        "trusted": true
      },
      "outputs": [],
      "execution_count": null
    },
    {
      "id": "563fd5db",
      "cell_type": "markdown",
      "source": "## Make predictions on the test data",
      "metadata": {}
    },
    {
      "id": "6fb965b7",
      "cell_type": "code",
      "source": "y_predict = nbm.predict(x_test_transform)",
      "metadata": {
        "trusted": true
      },
      "outputs": [],
      "execution_count": null
    },
    {
      "id": "859d82a0",
      "cell_type": "markdown",
      "source": "## Create a confusion matrix",
      "metadata": {}
    },
    {
      "id": "eff3cffb",
      "cell_type": "code",
      "source": "ConfusionMatrixDisplay.from_predictions( y_test, y_predict,\n                                        labels = nbm.classes_,\n                                        cmap = 'magma')",
      "metadata": {
        "trusted": true
      },
      "outputs": [],
      "execution_count": null
    },
    {
      "id": "48a27de6",
      "cell_type": "markdown",
      "source": "## Print a classification report",
      "metadata": {}
    },
    {
      "id": "34204f19",
      "cell_type": "markdown",
      "source": "* Fill in the parameters necessary for the classification_report() method.\n* A parameter **zero_division** has been also added and set to 0.",
      "metadata": {}
    },
    {
      "id": "f0ffefb7",
      "cell_type": "code",
      "source": "print(classification_report(y_test, y_predict,\n                            target_names = ['positive','negative'],\n                            zero_division = 0))",
      "metadata": {
        "trusted": true
      },
      "outputs": [],
      "execution_count": null
    },
    {
      "id": "76eba0e0-98a0-4971-a313-e3316998fec2",
      "cell_type": "code",
      "source": "",
      "metadata": {
        "trusted": true
      },
      "outputs": [],
      "execution_count": null
    }
  ]
}