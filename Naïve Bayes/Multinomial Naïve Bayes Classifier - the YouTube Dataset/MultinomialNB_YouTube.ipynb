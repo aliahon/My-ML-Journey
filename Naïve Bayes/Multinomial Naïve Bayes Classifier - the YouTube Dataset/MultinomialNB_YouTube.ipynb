{
  "metadata": {
    "kernelspec": {
      "name": "python",
      "display_name": "Python (Pyodide)",
      "language": "python"
    },
    "language_info": {
      "codemirror_mode": {
        "name": "python",
        "version": 3
      },
      "file_extension": ".py",
      "mimetype": "text/x-python",
      "name": "python",
      "nbconvert_exporter": "python",
      "pygments_lexer": "ipython3",
      "version": "3.8"
    }
  },
  "nbformat_minor": 5,
  "nbformat": 4,
  "cells": [
    {
      "id": "8ebd4364",
      "cell_type": "markdown",
      "source": "# Multinomial Naïve Bayes Classifier - the YouTube Dataset",
      "metadata": {}
    },
    {
      "id": "053831be",
      "cell_type": "markdown",
      "source": "### Introducing the database",
      "metadata": {}
    },
    {
      "id": "329b3cb7",
      "cell_type": "markdown",
      "source": "The database for this example is taken from https://archive.ics.uci.edu/ml/machine-learning-databases/00380/ ",
      "metadata": {}
    },
    {
      "id": "e299f9e4",
      "cell_type": "markdown",
      "source": "### Importing the necessary libraries",
      "metadata": {}
    },
    {
      "id": "7ca2a0dc",
      "cell_type": "code",
      "source": "import pandas as pd\nimport glob\n\nimport matplotlib.pyplot as plt\n\nimport numpy as np",
      "metadata": {
        "trusted": true
      },
      "outputs": [],
      "execution_count": 63
    },
    {
      "id": "ec59c4c3",
      "cell_type": "markdown",
      "source": "### Reading the database",
      "metadata": {}
    },
    {
      "id": "f498b02f",
      "cell_type": "code",
      "source": "files = glob.glob('youtube-dataset/*.csv')\nfiles",
      "metadata": {
        "trusted": true
      },
      "outputs": [
        {
          "execution_count": 4,
          "output_type": "execute_result",
          "data": {
            "text/plain": "['youtube-dataset/Youtube01.csv',\n 'youtube-dataset/Youtube02.csv',\n 'youtube-dataset/Youtube03.csv',\n 'youtube-dataset/Youtube04.csv',\n 'youtube-dataset/Youtube05.csv']"
          },
          "metadata": {}
        }
      ],
      "execution_count": 4
    },
    {
      "id": "ff0d4f00",
      "cell_type": "code",
      "source": "all_df = []\n\nfor i in files:\n    all_df.append(pd.read_csv(i).drop(['COMMENT_ID', 'AUTHOR', 'DATE'], axis = 1))",
      "metadata": {
        "trusted": true
      },
      "outputs": [],
      "execution_count": 8
    },
    {
      "id": "cf721dc9",
      "cell_type": "code",
      "source": "all_df[0]",
      "metadata": {
        "trusted": true
      },
      "outputs": [
        {
          "execution_count": 9,
          "output_type": "execute_result",
          "data": {
            "text/plain": "                                               CONTENT  CLASS\n0    Huh, anyway check out this you[tube] channel: ...      1\n1    Hey guys check out my new channel and our firs...      1\n2               just for test I have to say murdev.com      1\n3              watch?v=vtaRGgvGtWQ   Check this out .﻿      1\n4    Hey, check out my new website!! This site is a...      1\n..                                                 ...    ...\n344  How can this have 2 billion views when there's...      0\n345         I don't now why I'm watching this in 2014﻿      0\n346  subscribe to me for call of duty vids and give...      1\n347  hi guys please my android photo editor downloa...      1\n348  The first billion viewed this because they tho...      0\n\n[349 rows x 2 columns]",
            "text/html": "<div>\n<style scoped>\n    .dataframe tbody tr th:only-of-type {\n        vertical-align: middle;\n    }\n\n    .dataframe tbody tr th {\n        vertical-align: top;\n    }\n\n    .dataframe thead th {\n        text-align: right;\n    }\n</style>\n<table border=\"1\" class=\"dataframe\">\n  <thead>\n    <tr style=\"text-align: right;\">\n      <th></th>\n      <th>CONTENT</th>\n      <th>CLASS</th>\n    </tr>\n  </thead>\n  <tbody>\n    <tr>\n      <th>0</th>\n      <td>Huh, anyway check out this you[tube] channel: ...</td>\n      <td>1</td>\n    </tr>\n    <tr>\n      <th>1</th>\n      <td>Hey guys check out my new channel and our firs...</td>\n      <td>1</td>\n    </tr>\n    <tr>\n      <th>2</th>\n      <td>just for test I have to say murdev.com</td>\n      <td>1</td>\n    </tr>\n    <tr>\n      <th>3</th>\n      <td>watch?v=vtaRGgvGtWQ   Check this out .﻿</td>\n      <td>1</td>\n    </tr>\n    <tr>\n      <th>4</th>\n      <td>Hey, check out my new website!! This site is a...</td>\n      <td>1</td>\n    </tr>\n    <tr>\n      <th>...</th>\n      <td>...</td>\n      <td>...</td>\n    </tr>\n    <tr>\n      <th>344</th>\n      <td>How can this have 2 billion views when there's...</td>\n      <td>0</td>\n    </tr>\n    <tr>\n      <th>345</th>\n      <td>I don't now why I'm watching this in 2014﻿</td>\n      <td>0</td>\n    </tr>\n    <tr>\n      <th>346</th>\n      <td>subscribe to me for call of duty vids and give...</td>\n      <td>1</td>\n    </tr>\n    <tr>\n      <th>347</th>\n      <td>hi guys please my android photo editor downloa...</td>\n      <td>1</td>\n    </tr>\n    <tr>\n      <th>348</th>\n      <td>The first billion viewed this because they tho...</td>\n      <td>0</td>\n    </tr>\n  </tbody>\n</table>\n<p>349 rows × 2 columns</p>\n</div>"
          },
          "metadata": {}
        }
      ],
      "execution_count": 9
    },
    {
      "id": "1f011d2e",
      "cell_type": "code",
      "source": "data = pd.concat(all_df, axis = 0 , ignore_index = True)\ndata",
      "metadata": {
        "trusted": true
      },
      "outputs": [
        {
          "execution_count": 11,
          "output_type": "execute_result",
          "data": {
            "text/plain": "                                                CONTENT  CLASS\n0     Huh, anyway check out this you[tube] channel: ...      1\n1     Hey guys check out my new channel and our firs...      1\n2                just for test I have to say murdev.com      1\n3               watch?v=vtaRGgvGtWQ   Check this out .﻿      1\n4     Hey, check out my new website!! This site is a...      1\n...                                                 ...    ...\n1950  I love this song because we sing it at Camp al...      0\n1951  I love this song for two reasons: 1.it is abou...      0\n1952                                                wow      0\n1953                            Shakira u are so wiredo      0\n1954                         Shakira is the best dancer      0\n\n[1955 rows x 2 columns]",
            "text/html": "<div>\n<style scoped>\n    .dataframe tbody tr th:only-of-type {\n        vertical-align: middle;\n    }\n\n    .dataframe tbody tr th {\n        vertical-align: top;\n    }\n\n    .dataframe thead th {\n        text-align: right;\n    }\n</style>\n<table border=\"1\" class=\"dataframe\">\n  <thead>\n    <tr style=\"text-align: right;\">\n      <th></th>\n      <th>CONTENT</th>\n      <th>CLASS</th>\n    </tr>\n  </thead>\n  <tbody>\n    <tr>\n      <th>0</th>\n      <td>Huh, anyway check out this you[tube] channel: ...</td>\n      <td>1</td>\n    </tr>\n    <tr>\n      <th>1</th>\n      <td>Hey guys check out my new channel and our firs...</td>\n      <td>1</td>\n    </tr>\n    <tr>\n      <th>2</th>\n      <td>just for test I have to say murdev.com</td>\n      <td>1</td>\n    </tr>\n    <tr>\n      <th>3</th>\n      <td>watch?v=vtaRGgvGtWQ   Check this out .﻿</td>\n      <td>1</td>\n    </tr>\n    <tr>\n      <th>4</th>\n      <td>Hey, check out my new website!! This site is a...</td>\n      <td>1</td>\n    </tr>\n    <tr>\n      <th>...</th>\n      <td>...</td>\n      <td>...</td>\n    </tr>\n    <tr>\n      <th>1950</th>\n      <td>I love this song because we sing it at Camp al...</td>\n      <td>0</td>\n    </tr>\n    <tr>\n      <th>1951</th>\n      <td>I love this song for two reasons: 1.it is abou...</td>\n      <td>0</td>\n    </tr>\n    <tr>\n      <th>1952</th>\n      <td>wow</td>\n      <td>0</td>\n    </tr>\n    <tr>\n      <th>1953</th>\n      <td>Shakira u are so wiredo</td>\n      <td>0</td>\n    </tr>\n    <tr>\n      <th>1954</th>\n      <td>Shakira is the best dancer</td>\n      <td>0</td>\n    </tr>\n  </tbody>\n</table>\n<p>1955 rows × 2 columns</p>\n</div>"
          },
          "metadata": {}
        }
      ],
      "execution_count": 11
    },
    {
      "id": "bc3989fc",
      "cell_type": "code",
      "source": "data.isnull().sum()",
      "metadata": {
        "trusted": true
      },
      "outputs": [
        {
          "execution_count": 13,
          "output_type": "execute_result",
          "data": {
            "text/plain": "CONTENT    0\nCLASS      0\ndtype: int64"
          },
          "metadata": {}
        }
      ],
      "execution_count": 13
    },
    {
      "id": "7b5a7bbc",
      "cell_type": "code",
      "source": "data['CLASS'].value_counts()",
      "metadata": {
        "trusted": true
      },
      "outputs": [
        {
          "execution_count": 14,
          "output_type": "execute_result",
          "data": {
            "text/plain": "CLASS\n1    1004\n0     951\nName: count, dtype: int64"
          },
          "metadata": {}
        }
      ],
      "execution_count": 14
    },
    {
      "id": "1fb2f5c2-5cb9-4dc4-bac2-842af1ddebd2",
      "cell_type": "markdown",
      "source": "### Importing the necessary ML libraries",
      "metadata": {}
    },
    {
      "id": "2096bca3",
      "cell_type": "code",
      "source": "from sklearn.feature_extraction.text import CountVectorizer\nfrom sklearn.model_selection import train_test_split\nfrom sklearn.naive_bayes import MultinomialNB\nfrom sklearn.metrics import ConfusionMatrixDisplay\nfrom sklearn.metrics import classification_report",
      "metadata": {
        "trusted": true
      },
      "outputs": [],
      "execution_count": 55
    },
    {
      "id": "3167043b",
      "cell_type": "markdown",
      "source": "### Defining the inputs and the target. Creating the train-test split.",
      "metadata": {}
    },
    {
      "id": "6e7d4ad1",
      "cell_type": "code",
      "source": "inputs = data['CONTENT']\ntarget = data['CLASS']",
      "metadata": {
        "trusted": true
      },
      "outputs": [],
      "execution_count": 21
    },
    {
      "id": "5bfcd1ea",
      "cell_type": "code",
      "source": "x_train, x_test, y_train, y_test = train_test_split(inputs, target,\n                                                    test_size = 0.2,\n                                                    random_state = 365,\n                                                    stratify = target)",
      "metadata": {
        "trusted": true
      },
      "outputs": [],
      "execution_count": 31
    },
    {
      "id": "71f87086",
      "cell_type": "code",
      "source": "y_train.value_counts()",
      "metadata": {
        "scrolled": true,
        "trusted": true
      },
      "outputs": [
        {
          "execution_count": 39,
          "output_type": "execute_result",
          "data": {
            "text/plain": "CLASS\n1    803\n0    761\nName: count, dtype: int64"
          },
          "metadata": {}
        }
      ],
      "execution_count": 39
    },
    {
      "id": "3afe150d",
      "cell_type": "code",
      "source": "y_test.value_counts(normalize = True)",
      "metadata": {
        "trusted": true
      },
      "outputs": [
        {
          "execution_count": 33,
          "output_type": "execute_result",
          "data": {
            "text/plain": "CLASS\n1    0.514066\n0    0.485934\nName: proportion, dtype: float64"
          },
          "metadata": {}
        }
      ],
      "execution_count": 33
    },
    {
      "id": "14e8a85e",
      "cell_type": "markdown",
      "source": "### Tokenizing the YouTube comments",
      "metadata": {}
    },
    {
      "id": "7b8d139d",
      "cell_type": "code",
      "source": "vectorizer = CountVectorizer()",
      "metadata": {
        "trusted": true
      },
      "outputs": [],
      "execution_count": 35
    },
    {
      "id": "297e9317",
      "cell_type": "code",
      "source": "x_train_transform = vectorizer.fit_transform(x_train)\nx_test_transform = vectorizer.transform(x_test)",
      "metadata": {
        "trusted": true
      },
      "outputs": [],
      "execution_count": 36
    },
    {
      "id": "619d169e",
      "cell_type": "code",
      "source": "x_train_transform.toarray()",
      "metadata": {
        "trusted": true
      },
      "outputs": [
        {
          "execution_count": 37,
          "output_type": "execute_result",
          "data": {
            "text/plain": "array([[0, 0, 0, ..., 0, 0, 0],\n       [0, 0, 0, ..., 0, 0, 0],\n       [0, 0, 0, ..., 0, 0, 0],\n       ...,\n       [0, 0, 0, ..., 0, 0, 0],\n       [0, 0, 0, ..., 0, 0, 0],\n       [0, 0, 0, ..., 0, 0, 0]], dtype=int64)"
          },
          "metadata": {}
        }
      ],
      "execution_count": 37
    },
    {
      "id": "b568b208",
      "cell_type": "code",
      "source": "x_train_transform.shape",
      "metadata": {
        "trusted": true
      },
      "outputs": [
        {
          "execution_count": 38,
          "output_type": "execute_result",
          "data": {
            "text/plain": "(1564, 3925)"
          },
          "metadata": {}
        }
      ],
      "execution_count": 38
    },
    {
      "id": "01926f32",
      "cell_type": "code",
      "source": "x_test_transform.shape",
      "metadata": {
        "trusted": true
      },
      "outputs": [
        {
          "execution_count": 40,
          "output_type": "execute_result",
          "data": {
            "text/plain": "(391, 3925)"
          },
          "metadata": {}
        }
      ],
      "execution_count": 40
    },
    {
      "id": "a11cdb00",
      "cell_type": "markdown",
      "source": "### Performing the classification",
      "metadata": {}
    },
    {
      "id": "3ce116cd",
      "cell_type": "code",
      "source": "clf = MultinomialNB(class_prior = np.array([0.6, 0.4]))",
      "metadata": {
        "trusted": true
      },
      "outputs": [],
      "execution_count": 68
    },
    {
      "id": "4f6bd4a7",
      "cell_type": "code",
      "source": "clf.fit(x_train_transform, y_train)",
      "metadata": {
        "trusted": true
      },
      "outputs": [
        {
          "execution_count": 69,
          "output_type": "execute_result",
          "data": {
            "text/plain": "MultinomialNB(class_prior=array([0.6, 0.4]))",
            "text/html": "<style>#sk-container-id-2 {\n  /* Definition of color scheme common for light and dark mode */\n  --sklearn-color-text: black;\n  --sklearn-color-line: gray;\n  /* Definition of color scheme for unfitted estimators */\n  --sklearn-color-unfitted-level-0: #fff5e6;\n  --sklearn-color-unfitted-level-1: #f6e4d2;\n  --sklearn-color-unfitted-level-2: #ffe0b3;\n  --sklearn-color-unfitted-level-3: chocolate;\n  /* Definition of color scheme for fitted estimators */\n  --sklearn-color-fitted-level-0: #f0f8ff;\n  --sklearn-color-fitted-level-1: #d4ebff;\n  --sklearn-color-fitted-level-2: #b3dbfd;\n  --sklearn-color-fitted-level-3: cornflowerblue;\n\n  /* Specific color for light theme */\n  --sklearn-color-text-on-default-background: var(--sg-text-color, var(--theme-code-foreground, var(--jp-content-font-color1, black)));\n  --sklearn-color-background: var(--sg-background-color, var(--theme-background, var(--jp-layout-color0, white)));\n  --sklearn-color-border-box: var(--sg-text-color, var(--theme-code-foreground, var(--jp-content-font-color1, black)));\n  --sklearn-color-icon: #696969;\n\n  @media (prefers-color-scheme: dark) {\n    /* Redefinition of color scheme for dark theme */\n    --sklearn-color-text-on-default-background: var(--sg-text-color, var(--theme-code-foreground, var(--jp-content-font-color1, white)));\n    --sklearn-color-background: var(--sg-background-color, var(--theme-background, var(--jp-layout-color0, #111)));\n    --sklearn-color-border-box: var(--sg-text-color, var(--theme-code-foreground, var(--jp-content-font-color1, white)));\n    --sklearn-color-icon: #878787;\n  }\n}\n\n#sk-container-id-2 {\n  color: var(--sklearn-color-text);\n}\n\n#sk-container-id-2 pre {\n  padding: 0;\n}\n\n#sk-container-id-2 input.sk-hidden--visually {\n  border: 0;\n  clip: rect(1px 1px 1px 1px);\n  clip: rect(1px, 1px, 1px, 1px);\n  height: 1px;\n  margin: -1px;\n  overflow: hidden;\n  padding: 0;\n  position: absolute;\n  width: 1px;\n}\n\n#sk-container-id-2 div.sk-dashed-wrapped {\n  border: 1px dashed var(--sklearn-color-line);\n  margin: 0 0.4em 0.5em 0.4em;\n  box-sizing: border-box;\n  padding-bottom: 0.4em;\n  background-color: var(--sklearn-color-background);\n}\n\n#sk-container-id-2 div.sk-container {\n  /* jupyter's `normalize.less` sets `[hidden] { display: none; }`\n     but bootstrap.min.css set `[hidden] { display: none !important; }`\n     so we also need the `!important` here to be able to override the\n     default hidden behavior on the sphinx rendered scikit-learn.org.\n     See: https://github.com/scikit-learn/scikit-learn/issues/21755 */\n  display: inline-block !important;\n  position: relative;\n}\n\n#sk-container-id-2 div.sk-text-repr-fallback {\n  display: none;\n}\n\ndiv.sk-parallel-item,\ndiv.sk-serial,\ndiv.sk-item {\n  /* draw centered vertical line to link estimators */\n  background-image: linear-gradient(var(--sklearn-color-text-on-default-background), var(--sklearn-color-text-on-default-background));\n  background-size: 2px 100%;\n  background-repeat: no-repeat;\n  background-position: center center;\n}\n\n/* Parallel-specific style estimator block */\n\n#sk-container-id-2 div.sk-parallel-item::after {\n  content: \"\";\n  width: 100%;\n  border-bottom: 2px solid var(--sklearn-color-text-on-default-background);\n  flex-grow: 1;\n}\n\n#sk-container-id-2 div.sk-parallel {\n  display: flex;\n  align-items: stretch;\n  justify-content: center;\n  background-color: var(--sklearn-color-background);\n  position: relative;\n}\n\n#sk-container-id-2 div.sk-parallel-item {\n  display: flex;\n  flex-direction: column;\n}\n\n#sk-container-id-2 div.sk-parallel-item:first-child::after {\n  align-self: flex-end;\n  width: 50%;\n}\n\n#sk-container-id-2 div.sk-parallel-item:last-child::after {\n  align-self: flex-start;\n  width: 50%;\n}\n\n#sk-container-id-2 div.sk-parallel-item:only-child::after {\n  width: 0;\n}\n\n/* Serial-specific style estimator block */\n\n#sk-container-id-2 div.sk-serial {\n  display: flex;\n  flex-direction: column;\n  align-items: center;\n  background-color: var(--sklearn-color-background);\n  padding-right: 1em;\n  padding-left: 1em;\n}\n\n\n/* Toggleable style: style used for estimator/Pipeline/ColumnTransformer box that is\nclickable and can be expanded/collapsed.\n- Pipeline and ColumnTransformer use this feature and define the default style\n- Estimators will overwrite some part of the style using the `sk-estimator` class\n*/\n\n/* Pipeline and ColumnTransformer style (default) */\n\n#sk-container-id-2 div.sk-toggleable {\n  /* Default theme specific background. It is overwritten whether we have a\n  specific estimator or a Pipeline/ColumnTransformer */\n  background-color: var(--sklearn-color-background);\n}\n\n/* Toggleable label */\n#sk-container-id-2 label.sk-toggleable__label {\n  cursor: pointer;\n  display: block;\n  width: 100%;\n  margin-bottom: 0;\n  padding: 0.5em;\n  box-sizing: border-box;\n  text-align: center;\n}\n\n#sk-container-id-2 label.sk-toggleable__label-arrow:before {\n  /* Arrow on the left of the label */\n  content: \"▸\";\n  float: left;\n  margin-right: 0.25em;\n  color: var(--sklearn-color-icon);\n}\n\n#sk-container-id-2 label.sk-toggleable__label-arrow:hover:before {\n  color: var(--sklearn-color-text);\n}\n\n/* Toggleable content - dropdown */\n\n#sk-container-id-2 div.sk-toggleable__content {\n  max-height: 0;\n  max-width: 0;\n  overflow: hidden;\n  text-align: left;\n  /* unfitted */\n  background-color: var(--sklearn-color-unfitted-level-0);\n}\n\n#sk-container-id-2 div.sk-toggleable__content.fitted {\n  /* fitted */\n  background-color: var(--sklearn-color-fitted-level-0);\n}\n\n#sk-container-id-2 div.sk-toggleable__content pre {\n  margin: 0.2em;\n  border-radius: 0.25em;\n  color: var(--sklearn-color-text);\n  /* unfitted */\n  background-color: var(--sklearn-color-unfitted-level-0);\n}\n\n#sk-container-id-2 div.sk-toggleable__content.fitted pre {\n  /* unfitted */\n  background-color: var(--sklearn-color-fitted-level-0);\n}\n\n#sk-container-id-2 input.sk-toggleable__control:checked~div.sk-toggleable__content {\n  /* Expand drop-down */\n  max-height: 200px;\n  max-width: 100%;\n  overflow: auto;\n}\n\n#sk-container-id-2 input.sk-toggleable__control:checked~label.sk-toggleable__label-arrow:before {\n  content: \"▾\";\n}\n\n/* Pipeline/ColumnTransformer-specific style */\n\n#sk-container-id-2 div.sk-label input.sk-toggleable__control:checked~label.sk-toggleable__label {\n  color: var(--sklearn-color-text);\n  background-color: var(--sklearn-color-unfitted-level-2);\n}\n\n#sk-container-id-2 div.sk-label.fitted input.sk-toggleable__control:checked~label.sk-toggleable__label {\n  background-color: var(--sklearn-color-fitted-level-2);\n}\n\n/* Estimator-specific style */\n\n/* Colorize estimator box */\n#sk-container-id-2 div.sk-estimator input.sk-toggleable__control:checked~label.sk-toggleable__label {\n  /* unfitted */\n  background-color: var(--sklearn-color-unfitted-level-2);\n}\n\n#sk-container-id-2 div.sk-estimator.fitted input.sk-toggleable__control:checked~label.sk-toggleable__label {\n  /* fitted */\n  background-color: var(--sklearn-color-fitted-level-2);\n}\n\n#sk-container-id-2 div.sk-label label.sk-toggleable__label,\n#sk-container-id-2 div.sk-label label {\n  /* The background is the default theme color */\n  color: var(--sklearn-color-text-on-default-background);\n}\n\n/* On hover, darken the color of the background */\n#sk-container-id-2 div.sk-label:hover label.sk-toggleable__label {\n  color: var(--sklearn-color-text);\n  background-color: var(--sklearn-color-unfitted-level-2);\n}\n\n/* Label box, darken color on hover, fitted */\n#sk-container-id-2 div.sk-label.fitted:hover label.sk-toggleable__label.fitted {\n  color: var(--sklearn-color-text);\n  background-color: var(--sklearn-color-fitted-level-2);\n}\n\n/* Estimator label */\n\n#sk-container-id-2 div.sk-label label {\n  font-family: monospace;\n  font-weight: bold;\n  display: inline-block;\n  line-height: 1.2em;\n}\n\n#sk-container-id-2 div.sk-label-container {\n  text-align: center;\n}\n\n/* Estimator-specific */\n#sk-container-id-2 div.sk-estimator {\n  font-family: monospace;\n  border: 1px dotted var(--sklearn-color-border-box);\n  border-radius: 0.25em;\n  box-sizing: border-box;\n  margin-bottom: 0.5em;\n  /* unfitted */\n  background-color: var(--sklearn-color-unfitted-level-0);\n}\n\n#sk-container-id-2 div.sk-estimator.fitted {\n  /* fitted */\n  background-color: var(--sklearn-color-fitted-level-0);\n}\n\n/* on hover */\n#sk-container-id-2 div.sk-estimator:hover {\n  /* unfitted */\n  background-color: var(--sklearn-color-unfitted-level-2);\n}\n\n#sk-container-id-2 div.sk-estimator.fitted:hover {\n  /* fitted */\n  background-color: var(--sklearn-color-fitted-level-2);\n}\n\n/* Specification for estimator info (e.g. \"i\" and \"?\") */\n\n/* Common style for \"i\" and \"?\" */\n\n.sk-estimator-doc-link,\na:link.sk-estimator-doc-link,\na:visited.sk-estimator-doc-link {\n  float: right;\n  font-size: smaller;\n  line-height: 1em;\n  font-family: monospace;\n  background-color: var(--sklearn-color-background);\n  border-radius: 1em;\n  height: 1em;\n  width: 1em;\n  text-decoration: none !important;\n  margin-left: 1ex;\n  /* unfitted */\n  border: var(--sklearn-color-unfitted-level-1) 1pt solid;\n  color: var(--sklearn-color-unfitted-level-1);\n}\n\n.sk-estimator-doc-link.fitted,\na:link.sk-estimator-doc-link.fitted,\na:visited.sk-estimator-doc-link.fitted {\n  /* fitted */\n  border: var(--sklearn-color-fitted-level-1) 1pt solid;\n  color: var(--sklearn-color-fitted-level-1);\n}\n\n/* On hover */\ndiv.sk-estimator:hover .sk-estimator-doc-link:hover,\n.sk-estimator-doc-link:hover,\ndiv.sk-label-container:hover .sk-estimator-doc-link:hover,\n.sk-estimator-doc-link:hover {\n  /* unfitted */\n  background-color: var(--sklearn-color-unfitted-level-3);\n  color: var(--sklearn-color-background);\n  text-decoration: none;\n}\n\ndiv.sk-estimator.fitted:hover .sk-estimator-doc-link.fitted:hover,\n.sk-estimator-doc-link.fitted:hover,\ndiv.sk-label-container:hover .sk-estimator-doc-link.fitted:hover,\n.sk-estimator-doc-link.fitted:hover {\n  /* fitted */\n  background-color: var(--sklearn-color-fitted-level-3);\n  color: var(--sklearn-color-background);\n  text-decoration: none;\n}\n\n/* Span, style for the box shown on hovering the info icon */\n.sk-estimator-doc-link span {\n  display: none;\n  z-index: 9999;\n  position: relative;\n  font-weight: normal;\n  right: .2ex;\n  padding: .5ex;\n  margin: .5ex;\n  width: min-content;\n  min-width: 20ex;\n  max-width: 50ex;\n  color: var(--sklearn-color-text);\n  box-shadow: 2pt 2pt 4pt #999;\n  /* unfitted */\n  background: var(--sklearn-color-unfitted-level-0);\n  border: .5pt solid var(--sklearn-color-unfitted-level-3);\n}\n\n.sk-estimator-doc-link.fitted span {\n  /* fitted */\n  background: var(--sklearn-color-fitted-level-0);\n  border: var(--sklearn-color-fitted-level-3);\n}\n\n.sk-estimator-doc-link:hover span {\n  display: block;\n}\n\n/* \"?\"-specific style due to the `<a>` HTML tag */\n\n#sk-container-id-2 a.estimator_doc_link {\n  float: right;\n  font-size: 1rem;\n  line-height: 1em;\n  font-family: monospace;\n  background-color: var(--sklearn-color-background);\n  border-radius: 1rem;\n  height: 1rem;\n  width: 1rem;\n  text-decoration: none;\n  /* unfitted */\n  color: var(--sklearn-color-unfitted-level-1);\n  border: var(--sklearn-color-unfitted-level-1) 1pt solid;\n}\n\n#sk-container-id-2 a.estimator_doc_link.fitted {\n  /* fitted */\n  border: var(--sklearn-color-fitted-level-1) 1pt solid;\n  color: var(--sklearn-color-fitted-level-1);\n}\n\n/* On hover */\n#sk-container-id-2 a.estimator_doc_link:hover {\n  /* unfitted */\n  background-color: var(--sklearn-color-unfitted-level-3);\n  color: var(--sklearn-color-background);\n  text-decoration: none;\n}\n\n#sk-container-id-2 a.estimator_doc_link.fitted:hover {\n  /* fitted */\n  background-color: var(--sklearn-color-fitted-level-3);\n}\n</style><div id=\"sk-container-id-2\" class=\"sk-top-container\"><div class=\"sk-text-repr-fallback\"><pre>MultinomialNB(class_prior=array([0.6, 0.4]))</pre><b>In a Jupyter environment, please rerun this cell to show the HTML representation or trust the notebook. <br />On GitHub, the HTML representation is unable to render, please try loading this page with nbviewer.org.</b></div><div class=\"sk-container\" hidden><div class=\"sk-item\"><div class=\"sk-estimator fitted sk-toggleable\"><input class=\"sk-toggleable__control sk-hidden--visually\" id=\"sk-estimator-id-2\" type=\"checkbox\" checked><label for=\"sk-estimator-id-2\" class=\"sk-toggleable__label fitted sk-toggleable__label-arrow fitted\">&nbsp;&nbsp;MultinomialNB<a class=\"sk-estimator-doc-link fitted\" rel=\"noreferrer\" target=\"_blank\" href=\"https://scikit-learn.org/1.4/modules/generated/sklearn.naive_bayes.MultinomialNB.html\">?<span>Documentation for MultinomialNB</span></a><span class=\"sk-estimator-doc-link fitted\">i<span>Fitted</span></span></label><div class=\"sk-toggleable__content fitted\"><pre>MultinomialNB(class_prior=array([0.6, 0.4]))</pre></div> </div></div></div></div>"
          },
          "metadata": {}
        }
      ],
      "execution_count": 69
    },
    {
      "id": "11fd67d2",
      "cell_type": "code",
      "source": "clf.get_params()",
      "metadata": {
        "trusted": true
      },
      "outputs": [
        {
          "execution_count": 75,
          "output_type": "execute_result",
          "data": {
            "text/plain": "{'alpha': 1.0,\n 'class_prior': array([0.6, 0.4]),\n 'fit_prior': True,\n 'force_alpha': True}"
          },
          "metadata": {}
        }
      ],
      "execution_count": 75
    },
    {
      "id": "0b0d523f",
      "cell_type": "markdown",
      "source": "### Performing the evaluation on the test dataset",
      "metadata": {}
    },
    {
      "id": "47a3d7bf",
      "cell_type": "code",
      "source": "y_test_pred = clf.predict(x_test_transform)",
      "metadata": {
        "trusted": true
      },
      "outputs": [],
      "execution_count": 70
    },
    {
      "id": "344760ab",
      "cell_type": "code",
      "source": "ConfusionMatrixDisplay.from_predictions(\n    y_test, y_test_pred,\n    labels = clf.classes_,\n    cmap = 'magma'\n)",
      "metadata": {
        "trusted": true
      },
      "outputs": [
        {
          "execution_count": 71,
          "output_type": "execute_result",
          "data": {
            "text/plain": "<sklearn.metrics._plot.confusion_matrix.ConfusionMatrixDisplay at 0xd570278>"
          },
          "metadata": {}
        },
        {
          "output_type": "display_data",
          "data": {
            "text/plain": "<Figure size 640x480 with 2 Axes>",
            "image/png": "[encoded data removed]"
          },
          "metadata": {}
        }
      ],
      "execution_count": 71
    },
    {
      "id": "25db1187",
      "cell_type": "code",
      "source": "print(classification_report(y_test, y_test_pred, target_names=['Ham', 'Spam']))",
      "metadata": {
        "trusted": true
      },
      "outputs": [
        {
          "name": "stdout",
          "text": "              precision    recall  f1-score   support\n\n         Ham       0.97      0.95      0.96       190\n        Spam       0.96      0.97      0.96       201\n\n    accuracy                           0.96       391\n   macro avg       0.96      0.96      0.96       391\nweighted avg       0.96      0.96      0.96       391\n\n",
          "output_type": "stream"
        }
      ],
      "execution_count": 72
    },
    {
      "id": "820ec641",
      "cell_type": "markdown",
      "source": "### Creating probability-distribution figures",
      "metadata": {}
    },
    {
      "id": "8b8f7e88",
      "cell_type": "code",
      "source": "spam_proba = clf.predict_proba(x_test_transform).round(3)[:,1];\n\ndf_scatter = pd.DataFrame()\n\ndf_scatter['True class'] = y_test\ndf_scatter['Predicted class'] = y_test_pred\ndf_scatter['Predicted probability (spam)'] = spam_proba\n\ndf_scatter = df_scatter.reset_index(drop = True)\n\n# Assuming `df_scatter` is already defined with the necessary data\ndf_scatter_0 = df_scatter[df_scatter['True class'] == 0].reset_index(drop=True)\ndf_scatter_1 = df_scatter[df_scatter['True class'] == 1].reset_index(drop=True)\n\n# Define colors for the classes\ncolor_0 = '#000000'  # Black for 'ham'\ncolor_1 = '#FF0000'  # Red for 'spam'\n\n# Set up the plot\nfig, (ax1, ax2) = plt.subplots(2, 1, figsize=(12, 5))\nfig.tight_layout(pad=3)\n\n# Plot for 'ham' class\nax1.scatter(\n    df_scatter_0['Predicted probability (spam)'], \n    np.zeros(df_scatter_0.shape[0]), \n    c=color_0, \n    s=50, \n    label='True class: Ham', \n    marker='o'\n)\nax1.set_title(\"Probability distribution of comments belonging to the true 'ham' class\")\nax1.axvline(x=0.5, color='red', linestyle='dashed')\nax1.set_yticks([])\n\n# Plot for 'spam' class\nax2.scatter(\n    df_scatter_1['Predicted probability (spam)'], \n    np.zeros(df_scatter_1.shape[0]), \n    c=color_1, \n    s=50, \n    label='True class: Spam', \n    marker='X'\n)\nax2.set_title(\"Probability distribution of comments belonging to the true 'spam' class\")\nax2.axvline(x=0.5, color='red', linestyle='dashed')\nax2.set_yticks([])\n\n# Show the plot\nplt.show()\n",
      "metadata": {
        "trusted": true
      },
      "outputs": [
        {
          "output_type": "display_data",
          "data": {
            "text/plain": "<Figure size 1200x500 with 2 Axes>",
            "image/png": "[encoded data removed]"
          },
          "metadata": {}
        }
      ],
      "execution_count": 73
    },
    {
      "id": "3d6fb120",
      "cell_type": "markdown",
      "source": "### Making predictions",
      "metadata": {}
    },
    {
      "id": "7d261220",
      "cell_type": "code",
      "source": "predict_data = vectorizer.transform(['This song is amazing',\n                                     'You can win 1m dolar right now, just click here!!',\n                                     'I need your help, my familly is starving.',\n                                     'omg, that was great!'])",
      "metadata": {
        "trusted": true
      },
      "outputs": [],
      "execution_count": 76
    },
    {
      "id": "861be544",
      "cell_type": "code",
      "source": "clf.predict(predict_data)",
      "metadata": {
        "trusted": true
      },
      "outputs": [
        {
          "execution_count": 77,
          "output_type": "execute_result",
          "data": {
            "text/plain": "array([0, 1, 1, 0], dtype=int64)"
          },
          "metadata": {}
        }
      ],
      "execution_count": 77
    },
    {
      "id": "2b8fc844-8f38-48c4-88be-8b981f17e1e6",
      "cell_type": "code",
      "source": "",
      "metadata": {
        "trusted": true
      },
      "outputs": [],
      "execution_count": null
    }
  ]
}